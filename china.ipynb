{
  "cells": [
    {
      "cell_type": "code",
      "execution_count": 7,
      "metadata": {
        "colab": {
          "base_uri": "https://localhost:8080/"
        },
        "id": "F7ecUNaLlvMI",
        "outputId": "9f173880-0816-48e1-b413-36dcfd129cf9"
      },
      "outputs": [
        {
          "name": "stdout",
          "output_type": "stream",
          "text": [
            "Requirement already satisfied: econml in /Users/elkanfoudik/opt/anaconda3/lib/python3.9/site-packages (0.14.1)\n",
            "Requirement already satisfied: numpy in /Users/elkanfoudik/opt/anaconda3/lib/python3.9/site-packages (from econml) (1.26.4)\n",
            "Requirement already satisfied: scipy>1.4.0 in /Users/elkanfoudik/opt/anaconda3/lib/python3.9/site-packages (from econml) (1.11.4)\n",
            "Requirement already satisfied: scikit-learn<1.3,>0.22.0 in /Users/elkanfoudik/opt/anaconda3/lib/python3.9/site-packages (from econml) (1.2.2)\n",
            "Requirement already satisfied: sparse in /Users/elkanfoudik/opt/anaconda3/lib/python3.9/site-packages (from econml) (0.15.1)\n",
            "Requirement already satisfied: joblib>=0.13.0 in /Users/elkanfoudik/opt/anaconda3/lib/python3.9/site-packages (from econml) (1.2.0)\n",
            "Requirement already satisfied: statsmodels>=0.10 in /Users/elkanfoudik/opt/anaconda3/lib/python3.9/site-packages (from econml) (0.13.5)\n",
            "Requirement already satisfied: pandas in /Users/elkanfoudik/opt/anaconda3/lib/python3.9/site-packages (from econml) (1.3.4)\n",
            "Requirement already satisfied: shap<0.42.0,>=0.38.1 in /Users/elkanfoudik/opt/anaconda3/lib/python3.9/site-packages (from econml) (0.41.0)\n",
            "Requirement already satisfied: lightgbm in /Users/elkanfoudik/opt/anaconda3/lib/python3.9/site-packages (from econml) (4.3.0)\n",
            "Requirement already satisfied: threadpoolctl>=2.0.0 in /Users/elkanfoudik/opt/anaconda3/lib/python3.9/site-packages (from scikit-learn<1.3,>0.22.0->econml) (2.2.0)\n",
            "Requirement already satisfied: tqdm>4.25.0 in /Users/elkanfoudik/opt/anaconda3/lib/python3.9/site-packages (from shap<0.42.0,>=0.38.1->econml) (4.65.0)\n",
            "Requirement already satisfied: packaging>20.9 in /Users/elkanfoudik/opt/anaconda3/lib/python3.9/site-packages (from shap<0.42.0,>=0.38.1->econml) (23.1)\n",
            "Requirement already satisfied: slicer==0.0.7 in /Users/elkanfoudik/opt/anaconda3/lib/python3.9/site-packages (from shap<0.42.0,>=0.38.1->econml) (0.0.7)\n",
            "Requirement already satisfied: numba in /Users/elkanfoudik/opt/anaconda3/lib/python3.9/site-packages (from shap<0.42.0,>=0.38.1->econml) (0.59.0)\n",
            "Requirement already satisfied: cloudpickle in /Users/elkanfoudik/opt/anaconda3/lib/python3.9/site-packages (from shap<0.42.0,>=0.38.1->econml) (2.2.1)\n",
            "Requirement already satisfied: patsy>=0.5.2 in /Users/elkanfoudik/opt/anaconda3/lib/python3.9/site-packages (from statsmodels>=0.10->econml) (0.5.3)\n",
            "Requirement already satisfied: python-dateutil>=2.7.3 in /Users/elkanfoudik/opt/anaconda3/lib/python3.9/site-packages (from pandas->econml) (2.8.2)\n",
            "Requirement already satisfied: pytz>=2017.3 in /Users/elkanfoudik/opt/anaconda3/lib/python3.9/site-packages (from pandas->econml) (2023.3.post1)\n",
            "Requirement already satisfied: llvmlite<0.43,>=0.42.0dev0 in /Users/elkanfoudik/opt/anaconda3/lib/python3.9/site-packages (from numba->shap<0.42.0,>=0.38.1->econml) (0.42.0)\n",
            "Requirement already satisfied: six in /Users/elkanfoudik/opt/anaconda3/lib/python3.9/site-packages (from patsy>=0.5.2->statsmodels>=0.10->econml) (1.16.0)\n",
            "Note: you may need to restart the kernel to use updated packages.\n"
          ]
        }
      ],
      "source": [
        "pip install econml\n"
      ]
    },
    {
      "cell_type": "markdown",
      "metadata": {},
      "source": [
        "## Import Packages"
      ]
    },
    {
      "cell_type": "code",
      "execution_count": 8,
      "metadata": {},
      "outputs": [],
      "source": [
        "from multiprocessing import Pool "
      ]
    },
    {
      "cell_type": "code",
      "execution_count": 9,
      "metadata": {},
      "outputs": [],
      "source": [
        "import pandas as pd "
      ]
    },
    {
      "cell_type": "code",
      "execution_count": 10,
      "metadata": {},
      "outputs": [],
      "source": [
        "from econml.dml import DML\n"
      ]
    },
    {
      "cell_type": "code",
      "execution_count": 11,
      "metadata": {},
      "outputs": [],
      "source": [
        "from econml.iv.dml import DMLIV, NonParamDMLIV"
      ]
    },
    {
      "cell_type": "code",
      "execution_count": 12,
      "metadata": {},
      "outputs": [],
      "source": [
        "from econml.iv.dml import OrthoIV"
      ]
    },
    {
      "cell_type": "code",
      "execution_count": 13,
      "metadata": {},
      "outputs": [],
      "source": [
        "from sklearn.ensemble import RandomForestRegressor, RandomForestClassifier\n"
      ]
    },
    {
      "cell_type": "code",
      "execution_count": 6,
      "metadata": {},
      "outputs": [],
      "source": [
        "from joblib import Parallel, delayed\n",
        "import time as time_module"
      ]
    },
    {
      "cell_type": "code",
      "execution_count": 45,
      "metadata": {},
      "outputs": [],
      "source": [
        "import numpy as np"
      ]
    },
    {
      "cell_type": "markdown",
      "metadata": {},
      "source": [
        "## Importing Data"
      ]
    },
    {
      "cell_type": "code",
      "execution_count": 14,
      "metadata": {},
      "outputs": [],
      "source": [
        "data  = pd.read_stata(\"workfile_china_expanded.dta\")\n"
      ]
    },
    {
      "cell_type": "code",
      "execution_count": 35,
      "metadata": {},
      "outputs": [
        {
          "data": {
            "text/plain": [
              "2311"
            ]
          },
          "execution_count": 35,
          "metadata": {},
          "output_type": "execute_result"
        }
      ],
      "source": [
        "len(data)"
      ]
    },
    {
      "cell_type": "code",
      "execution_count": 15,
      "metadata": {},
      "outputs": [],
      "source": [
        "reg_variables = [col for col in data.columns if col.startswith('reg')]\n",
        "\n",
        "selected_columns = [\"d_sh_empl_mfg\",\"d_avg_lnwkwage\", \"d_tradeotch_pw_lag\", \"d_tradeusch_pw\",\n",
        "                    \"l_shind_manuf_cbp\", \"l_sh_popedu_c\", \"l_sh_popfborn\",\n",
        "                    \"l_sh_empl_f\", \"l_sh_routine33\", \"l_task_outsource\", \"timepwt48\"] + reg_variables + ['t2', \"statefip\"]\n",
        "\n",
        "data = data[selected_columns]"
      ]
    },
    {
      "cell_type": "code",
      "execution_count": 16,
      "metadata": {},
      "outputs": [],
      "source": [
        "y = data[\"d_sh_empl_mfg\"]\n",
        "t = data[\"d_tradeusch_pw\"]\n",
        "z = data[\"d_tradeotch_pw_lag\"]"
      ]
    },
    {
      "cell_type": "code",
      "execution_count": 21,
      "metadata": {},
      "outputs": [],
      "source": [
        "ys = \"d_sh_empl_mfg\"\n",
        "ts = \"d_tradeusch_pw\"\n",
        "zs = \"d_tradeotch_pw_lag\"\n",
        "\n",
        "cluster = \"statefip\"\n",
        "ex_cols = [\"statefip\", \"timepwt48\"]\n",
        "\n",
        "# Create conditions for excluding specific columns\n",
        "exclude_conditions = [col_name not in [ys, ts, zs] + ex_cols for col_name in data.columns]\n",
        "\n",
        "# Use the conditions to filter the column names\n",
        "selected_columns = data.columns[exclude_conditions].tolist()\n",
        "\n",
        "# Join the selected column names into a single string\n",
        "w = data[selected_columns]"
      ]
    },
    {
      "cell_type": "code",
      "execution_count": 22,
      "metadata": {},
      "outputs": [],
      "source": [
        "weight = data[\"timepwt48\"]"
      ]
    },
    {
      "cell_type": "markdown",
      "metadata": {},
      "source": [
        " ## Defining ML Objects"
      ]
    },
    {
      "cell_type": "code",
      "execution_count": 36,
      "metadata": {},
      "outputs": [],
      "source": [
        "from sklearn.linear_model import ElasticNetCV\n",
        "from sklearn.ensemble import GradientBoostingRegressor\n",
        "from sklearn.tree import DecisionTreeRegressor\n",
        "from sklearn.neural_network import MLPRegressor\n",
        "\n",
        "rf =  RandomForestRegressor(n_estimators=1000, min_samples_leaf=5)\n",
        "glm = ElasticNetCV(cv=10, random_state=0)\n",
        "gbm = GradientBoostingRegressor(min_samples_leaf = 1, learning_rate = 0.01)\n",
        "regtree = DecisionTreeRegressor(random_state=0)\n",
        "nn = MLPRegressor(random_state=0, max_iter=500)"
      ]
    },
    {
      "cell_type": "markdown",
      "metadata": {},
      "source": [
        "### Ensemble\n"
      ]
    },
    {
      "cell_type": "code",
      "execution_count": 100,
      "metadata": {},
      "outputs": [],
      "source": [
        "import mlens\n",
        "import numpy as np"
      ]
    },
    {
      "cell_type": "code",
      "execution_count": 104,
      "metadata": {},
      "outputs": [],
      "source": [
        "\n",
        "from mlens.ensemble import SuperLearner\n",
        "from mlens.metrics import make_scorer\n",
        "from sklearn.base import clone\n",
        "from sklearn.linear_model import LinearRegression\n",
        "from sklearn.tree import DecisionTreeRegressor\n",
        "from sklearn.ensemble import RandomForestRegressor\n",
        "from sklearn.neural_network import MLPRegressor\n",
        "from sklearn.ensemble import GradientBoostingRegressor\n",
        "\n"
      ]
    },
    {
      "cell_type": "code",
      "execution_count": 106,
      "metadata": {},
      "outputs": [
        {
          "ename": "AttributeError",
          "evalue": "module 'numpy' has no attribute 'int'.\n`np.int` was a deprecated alias for the builtin `int`. To avoid this error in existing code, use `int` by itself. Doing this will not modify any behavior and is safe. When replacing `np.int`, you may wish to use e.g. `np.int64` or `np.int32` to specify the precision. If you wish to review your current use, check the release note link for additional information.\nThe aliases was originally deprecated in NumPy 1.20; for more details and guidance see the original release note at:\n    https://numpy.org/devdocs/release/1.20.0-notes.html#deprecations",
          "output_type": "error",
          "traceback": [
            "\u001b[0;31m---------------------------------------------------------------------------\u001b[0m",
            "\u001b[0;31mAttributeError\u001b[0m                            Traceback (most recent call last)",
            "Cell \u001b[0;32mIn[106], line 14\u001b[0m\n\u001b[1;32m     11\u001b[0m graph_ensemble_regr\u001b[38;5;241m.\u001b[39madd_meta(LinearRegression())\n\u001b[1;32m     13\u001b[0m \u001b[38;5;66;03m# Fit the ensemble\u001b[39;00m\n\u001b[0;32m---> 14\u001b[0m \u001b[43mgraph_ensemble_regr\u001b[49m\u001b[38;5;241;43m.\u001b[39;49m\u001b[43mfit\u001b[49m\u001b[43m(\u001b[49m\u001b[43my\u001b[49m\u001b[43m,\u001b[49m\u001b[43m \u001b[49m\u001b[43mt\u001b[49m\u001b[43m)\u001b[49m  \u001b[38;5;66;03m# Replace X_train and y_train with your data\u001b[39;00m\n\u001b[1;32m     16\u001b[0m \u001b[38;5;66;03m# Convert the ensemble into a single learner\u001b[39;00m\n\u001b[1;32m     17\u001b[0m ml_nsmbl \u001b[38;5;241m=\u001b[39m clone(graph_ensemble_regr)\n",
            "File \u001b[0;32m~/opt/anaconda3/lib/python3.9/site-packages/mlens/ensemble/base.py:514\u001b[0m, in \u001b[0;36mBaseEnsemble.fit\u001b[0;34m(self, X, y, **kwargs)\u001b[0m\n\u001b[1;32m    511\u001b[0m \u001b[38;5;28;01mif\u001b[39;00m \u001b[38;5;28mself\u001b[39m\u001b[38;5;241m.\u001b[39mmodel_selection:\n\u001b[1;32m    512\u001b[0m     \u001b[38;5;28mself\u001b[39m\u001b[38;5;241m.\u001b[39m_id_train\u001b[38;5;241m.\u001b[39mfit(X)\n\u001b[0;32m--> 514\u001b[0m out \u001b[38;5;241m=\u001b[39m \u001b[38;5;28;43mself\u001b[39;49m\u001b[38;5;241;43m.\u001b[39;49m\u001b[43m_backend\u001b[49m\u001b[38;5;241;43m.\u001b[39;49m\u001b[43mfit\u001b[49m\u001b[43m(\u001b[49m\u001b[43mX\u001b[49m\u001b[43m,\u001b[49m\u001b[43m \u001b[49m\u001b[43my\u001b[49m\u001b[43m,\u001b[49m\u001b[43m \u001b[49m\u001b[38;5;241;43m*\u001b[39;49m\u001b[38;5;241;43m*\u001b[39;49m\u001b[43mkwargs\u001b[49m\u001b[43m)\u001b[49m\n\u001b[1;32m    515\u001b[0m \u001b[38;5;28;01mif\u001b[39;00m out \u001b[38;5;129;01mis\u001b[39;00m \u001b[38;5;129;01mnot\u001b[39;00m \u001b[38;5;28mself\u001b[39m\u001b[38;5;241m.\u001b[39m_backend:\n\u001b[1;32m    516\u001b[0m     \u001b[38;5;66;03m# fit_transform\u001b[39;00m\n\u001b[1;32m    517\u001b[0m     \u001b[38;5;28;01mreturn\u001b[39;00m out\n",
            "File \u001b[0;32m~/opt/anaconda3/lib/python3.9/site-packages/mlens/ensemble/base.py:158\u001b[0m, in \u001b[0;36mSequential.fit\u001b[0;34m(self, X, y, **kwargs)\u001b[0m\n\u001b[1;32m    154\u001b[0m f, t0 \u001b[38;5;241m=\u001b[39m print_job(\u001b[38;5;28mself\u001b[39m, \u001b[38;5;124m\"\u001b[39m\u001b[38;5;124mFitting\u001b[39m\u001b[38;5;124m\"\u001b[39m)\n\u001b[1;32m    156\u001b[0m \u001b[38;5;28;01mwith\u001b[39;00m ParallelProcessing(\u001b[38;5;28mself\u001b[39m\u001b[38;5;241m.\u001b[39mbackend, \u001b[38;5;28mself\u001b[39m\u001b[38;5;241m.\u001b[39mn_jobs,\n\u001b[1;32m    157\u001b[0m                         \u001b[38;5;28mmax\u001b[39m(\u001b[38;5;28mself\u001b[39m\u001b[38;5;241m.\u001b[39mverbose \u001b[38;5;241m-\u001b[39m \u001b[38;5;241m4\u001b[39m, \u001b[38;5;241m0\u001b[39m)) \u001b[38;5;28;01mas\u001b[39;00m manager:\n\u001b[0;32m--> 158\u001b[0m     out \u001b[38;5;241m=\u001b[39m \u001b[43mmanager\u001b[49m\u001b[38;5;241;43m.\u001b[39;49m\u001b[43mstack\u001b[49m\u001b[43m(\u001b[49m\u001b[38;5;28;43mself\u001b[39;49m\u001b[43m,\u001b[49m\u001b[43m \u001b[49m\u001b[38;5;124;43m'\u001b[39;49m\u001b[38;5;124;43mfit\u001b[39;49m\u001b[38;5;124;43m'\u001b[39;49m\u001b[43m,\u001b[49m\u001b[43m \u001b[49m\u001b[43mX\u001b[49m\u001b[43m,\u001b[49m\u001b[43m \u001b[49m\u001b[43my\u001b[49m\u001b[43m,\u001b[49m\u001b[43m \u001b[49m\u001b[38;5;241;43m*\u001b[39;49m\u001b[38;5;241;43m*\u001b[39;49m\u001b[43mkwargs\u001b[49m\u001b[43m)\u001b[49m\n\u001b[1;32m    160\u001b[0m \u001b[38;5;28;01mif\u001b[39;00m \u001b[38;5;28mself\u001b[39m\u001b[38;5;241m.\u001b[39mverbose:\n\u001b[1;32m    161\u001b[0m     print_time(t0, \u001b[38;5;124m\"\u001b[39m\u001b[38;5;132;01m{:<35}\u001b[39;00m\u001b[38;5;124m\"\u001b[39m\u001b[38;5;241m.\u001b[39mformat(\u001b[38;5;124m\"\u001b[39m\u001b[38;5;124mFit complete\u001b[39m\u001b[38;5;124m\"\u001b[39m), file\u001b[38;5;241m=\u001b[39mf)\n",
            "File \u001b[0;32m~/opt/anaconda3/lib/python3.9/site-packages/mlens/parallel/backend.py:673\u001b[0m, in \u001b[0;36mParallelProcessing.stack\u001b[0;34m(self, caller, job, X, y, path, return_preds, warm_start, split, **kwargs)\u001b[0m\n\u001b[1;32m    612\u001b[0m \u001b[38;5;250m\u001b[39m\u001b[38;5;124;03m\"\"\"Stacked parallel task mapping.\u001b[39;00m\n\u001b[1;32m    613\u001b[0m \n\u001b[1;32m    614\u001b[0m \u001b[38;5;124;03mRun stacked tasks in caller in parallel.\u001b[39;00m\n\u001b[0;32m   (...)\u001b[0m\n\u001b[1;32m    668\u001b[0m \u001b[38;5;124;03m    Prediction array(s).\u001b[39;00m\n\u001b[1;32m    669\u001b[0m \u001b[38;5;124;03m\"\"\"\u001b[39;00m\n\u001b[1;32m    670\u001b[0m out \u001b[38;5;241m=\u001b[39m \u001b[38;5;28mself\u001b[39m\u001b[38;5;241m.\u001b[39minitialize(\n\u001b[1;32m    671\u001b[0m     job\u001b[38;5;241m=\u001b[39mjob, X\u001b[38;5;241m=\u001b[39mX, y\u001b[38;5;241m=\u001b[39my, path\u001b[38;5;241m=\u001b[39mpath, warm_start\u001b[38;5;241m=\u001b[39mwarm_start,\n\u001b[1;32m    672\u001b[0m     return_preds\u001b[38;5;241m=\u001b[39mreturn_preds, split\u001b[38;5;241m=\u001b[39msplit, stack\u001b[38;5;241m=\u001b[39m\u001b[38;5;28;01mTrue\u001b[39;00m)\n\u001b[0;32m--> 673\u001b[0m \u001b[38;5;28;01mreturn\u001b[39;00m \u001b[38;5;28;43mself\u001b[39;49m\u001b[38;5;241;43m.\u001b[39;49m\u001b[43mprocess\u001b[49m\u001b[43m(\u001b[49m\u001b[43mcaller\u001b[49m\u001b[38;5;241;43m=\u001b[39;49m\u001b[43mcaller\u001b[49m\u001b[43m,\u001b[49m\u001b[43m \u001b[49m\u001b[43mout\u001b[49m\u001b[38;5;241;43m=\u001b[39;49m\u001b[43mout\u001b[49m\u001b[43m,\u001b[49m\u001b[43m \u001b[49m\u001b[38;5;241;43m*\u001b[39;49m\u001b[38;5;241;43m*\u001b[39;49m\u001b[43mkwargs\u001b[49m\u001b[43m)\u001b[49m\n",
            "File \u001b[0;32m~/opt/anaconda3/lib/python3.9/site-packages/mlens/parallel/backend.py:718\u001b[0m, in \u001b[0;36mParallelProcessing.process\u001b[0;34m(self, caller, out, **kwargs)\u001b[0m\n\u001b[1;32m    715\u001b[0m \u001b[38;5;28;01mfor\u001b[39;00m task \u001b[38;5;129;01min\u001b[39;00m caller:\n\u001b[1;32m    716\u001b[0m     \u001b[38;5;28mself\u001b[39m\u001b[38;5;241m.\u001b[39mjob\u001b[38;5;241m.\u001b[39mclear()\n\u001b[0;32m--> 718\u001b[0m     \u001b[38;5;28;43mself\u001b[39;49m\u001b[38;5;241;43m.\u001b[39;49m\u001b[43m_partial_process\u001b[49m\u001b[43m(\u001b[49m\u001b[43mtask\u001b[49m\u001b[43m,\u001b[49m\u001b[43m \u001b[49m\u001b[43mparallel\u001b[49m\u001b[43m,\u001b[49m\u001b[43m \u001b[49m\u001b[38;5;241;43m*\u001b[39;49m\u001b[38;5;241;43m*\u001b[39;49m\u001b[43mkwargs\u001b[49m\u001b[43m)\u001b[49m\n\u001b[1;32m    720\u001b[0m     \u001b[38;5;28;01mif\u001b[39;00m task\u001b[38;5;241m.\u001b[39mname \u001b[38;5;129;01min\u001b[39;00m return_names:\n\u001b[1;32m    721\u001b[0m         out\u001b[38;5;241m.\u001b[39mappend(\u001b[38;5;28mself\u001b[39m\u001b[38;5;241m.\u001b[39mget_preds(dtype\u001b[38;5;241m=\u001b[39m_dtype(task)))\n",
            "File \u001b[0;32m~/opt/anaconda3/lib/python3.9/site-packages/mlens/parallel/backend.py:739\u001b[0m, in \u001b[0;36mParallelProcessing._partial_process\u001b[0;34m(self, task, parallel, **kwargs)\u001b[0m\n\u001b[1;32m    736\u001b[0m \u001b[38;5;28;01mif\u001b[39;00m \u001b[38;5;129;01mnot\u001b[39;00m task\u001b[38;5;241m.\u001b[39m__no_output__:\n\u001b[1;32m    737\u001b[0m     \u001b[38;5;28mself\u001b[39m\u001b[38;5;241m.\u001b[39m_gen_prediction_array(task, \u001b[38;5;28mself\u001b[39m\u001b[38;5;241m.\u001b[39mjob\u001b[38;5;241m.\u001b[39mjob, \u001b[38;5;28mself\u001b[39m\u001b[38;5;241m.\u001b[39m__threading__)\n\u001b[0;32m--> 739\u001b[0m \u001b[43mtask\u001b[49m\u001b[43m(\u001b[49m\u001b[38;5;28;43mself\u001b[39;49m\u001b[38;5;241;43m.\u001b[39;49m\u001b[43mjob\u001b[49m\u001b[38;5;241;43m.\u001b[39;49m\u001b[43margs\u001b[49m\u001b[43m(\u001b[49m\u001b[38;5;241;43m*\u001b[39;49m\u001b[38;5;241;43m*\u001b[39;49m\u001b[43mkwargs\u001b[49m\u001b[43m)\u001b[49m\u001b[43m,\u001b[49m\u001b[43m \u001b[49m\u001b[43mparallel\u001b[49m\u001b[38;5;241;43m=\u001b[39;49m\u001b[43mparallel\u001b[49m\u001b[43m)\u001b[49m\n\u001b[1;32m    741\u001b[0m \u001b[38;5;28;01mif\u001b[39;00m \u001b[38;5;129;01mnot\u001b[39;00m task\u001b[38;5;241m.\u001b[39m__no_output__ \u001b[38;5;129;01mand\u001b[39;00m \u001b[38;5;28mgetattr\u001b[39m(task, \u001b[38;5;124m'\u001b[39m\u001b[38;5;124mn_feature_prop\u001b[39m\u001b[38;5;124m'\u001b[39m, \u001b[38;5;241m0\u001b[39m):\n\u001b[1;32m    742\u001b[0m     \u001b[38;5;28mself\u001b[39m\u001b[38;5;241m.\u001b[39m_propagate_features(task)\n",
            "File \u001b[0;32m~/opt/anaconda3/lib/python3.9/site-packages/mlens/parallel/layer.py:151\u001b[0m, in \u001b[0;36mLayer.__call__\u001b[0;34m(self, args, parallel)\u001b[0m\n\u001b[1;32m    148\u001b[0m     safe_print(msg\u001b[38;5;241m.\u001b[39mformat(\u001b[38;5;124m'\u001b[39m\u001b[38;5;124mLearners ...\u001b[39m\u001b[38;5;124m'\u001b[39m), file\u001b[38;5;241m=\u001b[39mf, end\u001b[38;5;241m=\u001b[39me2)\n\u001b[1;32m    149\u001b[0m     t1 \u001b[38;5;241m=\u001b[39m time()\n\u001b[0;32m--> 151\u001b[0m \u001b[43mparallel\u001b[49m\u001b[43m(\u001b[49m\u001b[43mdelayed\u001b[49m\u001b[43m(\u001b[49m\u001b[43msublearner\u001b[49m\u001b[43m,\u001b[49m\u001b[43m \u001b[49m\u001b[38;5;129;43;01mnot\u001b[39;49;00m\u001b[43m \u001b[49m\u001b[43m_threading\u001b[49m\u001b[43m)\u001b[49m\u001b[43m(\u001b[49m\u001b[43m)\u001b[49m\n\u001b[1;32m    152\u001b[0m \u001b[43m         \u001b[49m\u001b[38;5;28;43;01mfor\u001b[39;49;00m\u001b[43m \u001b[49m\u001b[43mlearner\u001b[49m\u001b[43m \u001b[49m\u001b[38;5;129;43;01min\u001b[39;49;00m\u001b[43m \u001b[49m\u001b[38;5;28;43mself\u001b[39;49m\u001b[38;5;241;43m.\u001b[39;49m\u001b[43mlearners\u001b[49m\n\u001b[1;32m    153\u001b[0m \u001b[43m         \u001b[49m\u001b[38;5;28;43;01mfor\u001b[39;49;00m\u001b[43m \u001b[49m\u001b[43msublearner\u001b[49m\u001b[43m \u001b[49m\u001b[38;5;129;43;01min\u001b[39;49;00m\u001b[43m \u001b[49m\u001b[43mlearner\u001b[49m\u001b[43m(\u001b[49m\u001b[43margs\u001b[49m\u001b[43m,\u001b[49m\u001b[43m \u001b[49m\u001b[38;5;124;43m'\u001b[39;49m\u001b[38;5;124;43mmain\u001b[39;49m\u001b[38;5;124;43m'\u001b[39;49m\u001b[43m)\u001b[49m\u001b[43m)\u001b[49m\n\u001b[1;32m    155\u001b[0m \u001b[38;5;28;01mif\u001b[39;00m \u001b[38;5;28mself\u001b[39m\u001b[38;5;241m.\u001b[39mverbose \u001b[38;5;241m>\u001b[39m\u001b[38;5;241m=\u001b[39m \u001b[38;5;241m2\u001b[39m:\n\u001b[1;32m    156\u001b[0m     print_time(t1, \u001b[38;5;124m'\u001b[39m\u001b[38;5;124mdone\u001b[39m\u001b[38;5;124m'\u001b[39m, file\u001b[38;5;241m=\u001b[39mf)\n",
            "File \u001b[0;32m~/opt/anaconda3/lib/python3.9/site-packages/mlens/externals/joblib/parallel.py:783\u001b[0m, in \u001b[0;36mParallel.__call__\u001b[0;34m(self, iterable)\u001b[0m\n\u001b[1;32m    778\u001b[0m \u001b[38;5;28mself\u001b[39m\u001b[38;5;241m.\u001b[39mn_completed_tasks \u001b[38;5;241m=\u001b[39m \u001b[38;5;241m0\u001b[39m\n\u001b[1;32m    779\u001b[0m \u001b[38;5;28;01mtry\u001b[39;00m:\n\u001b[1;32m    780\u001b[0m     \u001b[38;5;66;03m# Only set self._iterating to True if at least a batch\u001b[39;00m\n\u001b[1;32m    781\u001b[0m     \u001b[38;5;66;03m# was dispatched. In particular this covers the edge\u001b[39;00m\n\u001b[1;32m    782\u001b[0m     \u001b[38;5;66;03m# case of Parallel used with an exhausted iterator.\u001b[39;00m\n\u001b[0;32m--> 783\u001b[0m     \u001b[38;5;28;01mwhile\u001b[39;00m \u001b[38;5;28;43mself\u001b[39;49m\u001b[38;5;241;43m.\u001b[39;49m\u001b[43mdispatch_one_batch\u001b[49m\u001b[43m(\u001b[49m\u001b[43miterator\u001b[49m\u001b[43m)\u001b[49m:\n\u001b[1;32m    784\u001b[0m         \u001b[38;5;28mself\u001b[39m\u001b[38;5;241m.\u001b[39m_iterating \u001b[38;5;241m=\u001b[39m \u001b[38;5;28;01mTrue\u001b[39;00m\n\u001b[1;32m    785\u001b[0m     \u001b[38;5;28;01melse\u001b[39;00m:\n",
            "File \u001b[0;32m~/opt/anaconda3/lib/python3.9/site-packages/mlens/externals/joblib/parallel.py:624\u001b[0m, in \u001b[0;36mParallel.dispatch_one_batch\u001b[0;34m(self, iterator)\u001b[0m\n\u001b[1;32m    621\u001b[0m     batch_size \u001b[38;5;241m=\u001b[39m \u001b[38;5;28mself\u001b[39m\u001b[38;5;241m.\u001b[39mbatch_size\n\u001b[1;32m    623\u001b[0m \u001b[38;5;28;01mwith\u001b[39;00m \u001b[38;5;28mself\u001b[39m\u001b[38;5;241m.\u001b[39m_lock:\n\u001b[0;32m--> 624\u001b[0m     tasks \u001b[38;5;241m=\u001b[39m \u001b[43mBatchedCalls\u001b[49m\u001b[43m(\u001b[49m\u001b[43mitertools\u001b[49m\u001b[38;5;241;43m.\u001b[39;49m\u001b[43mislice\u001b[49m\u001b[43m(\u001b[49m\u001b[43miterator\u001b[49m\u001b[43m,\u001b[49m\u001b[43m \u001b[49m\u001b[43mbatch_size\u001b[49m\u001b[43m)\u001b[49m\u001b[43m)\u001b[49m\n\u001b[1;32m    625\u001b[0m     \u001b[38;5;28;01mif\u001b[39;00m \u001b[38;5;28mlen\u001b[39m(tasks) \u001b[38;5;241m==\u001b[39m \u001b[38;5;241m0\u001b[39m:\n\u001b[1;32m    626\u001b[0m         \u001b[38;5;66;03m# No more tasks available in the iterator: tell caller to stop.\u001b[39;00m\n\u001b[1;32m    627\u001b[0m         \u001b[38;5;28;01mreturn\u001b[39;00m \u001b[38;5;28;01mFalse\u001b[39;00m\n",
            "File \u001b[0;32m~/opt/anaconda3/lib/python3.9/site-packages/mlens/externals/joblib/parallel.py:131\u001b[0m, in \u001b[0;36mBatchedCalls.__init__\u001b[0;34m(self, iterator_slice)\u001b[0m\n\u001b[1;32m    130\u001b[0m \u001b[38;5;28;01mdef\u001b[39;00m \u001b[38;5;21m__init__\u001b[39m(\u001b[38;5;28mself\u001b[39m, iterator_slice):\n\u001b[0;32m--> 131\u001b[0m     \u001b[38;5;28mself\u001b[39m\u001b[38;5;241m.\u001b[39mitems \u001b[38;5;241m=\u001b[39m \u001b[38;5;28;43mlist\u001b[39;49m\u001b[43m(\u001b[49m\u001b[43miterator_slice\u001b[49m\u001b[43m)\u001b[49m\n\u001b[1;32m    132\u001b[0m     \u001b[38;5;28mself\u001b[39m\u001b[38;5;241m.\u001b[39m_size \u001b[38;5;241m=\u001b[39m \u001b[38;5;28mlen\u001b[39m(\u001b[38;5;28mself\u001b[39m\u001b[38;5;241m.\u001b[39mitems)\n",
            "File \u001b[0;32m~/opt/anaconda3/lib/python3.9/site-packages/mlens/parallel/layer.py:153\u001b[0m, in \u001b[0;36m<genexpr>\u001b[0;34m(.0)\u001b[0m\n\u001b[1;32m    148\u001b[0m     safe_print(msg\u001b[38;5;241m.\u001b[39mformat(\u001b[38;5;124m'\u001b[39m\u001b[38;5;124mLearners ...\u001b[39m\u001b[38;5;124m'\u001b[39m), file\u001b[38;5;241m=\u001b[39mf, end\u001b[38;5;241m=\u001b[39me2)\n\u001b[1;32m    149\u001b[0m     t1 \u001b[38;5;241m=\u001b[39m time()\n\u001b[1;32m    151\u001b[0m parallel(delayed(sublearner, \u001b[38;5;129;01mnot\u001b[39;00m _threading)()\n\u001b[1;32m    152\u001b[0m          \u001b[38;5;28;01mfor\u001b[39;00m learner \u001b[38;5;129;01min\u001b[39;00m \u001b[38;5;28mself\u001b[39m\u001b[38;5;241m.\u001b[39mlearners\n\u001b[0;32m--> 153\u001b[0m          \u001b[38;5;28;01mfor\u001b[39;00m sublearner \u001b[38;5;129;01min\u001b[39;00m learner(args, \u001b[38;5;124m'\u001b[39m\u001b[38;5;124mmain\u001b[39m\u001b[38;5;124m'\u001b[39m))\n\u001b[1;32m    155\u001b[0m \u001b[38;5;28;01mif\u001b[39;00m \u001b[38;5;28mself\u001b[39m\u001b[38;5;241m.\u001b[39mverbose \u001b[38;5;241m>\u001b[39m\u001b[38;5;241m=\u001b[39m \u001b[38;5;241m2\u001b[39m:\n\u001b[1;32m    156\u001b[0m     print_time(t1, \u001b[38;5;124m'\u001b[39m\u001b[38;5;124mdone\u001b[39m\u001b[38;5;124m'\u001b[39m, file\u001b[38;5;241m=\u001b[39mf)\n",
            "File \u001b[0;32m~/opt/anaconda3/lib/python3.9/site-packages/mlens/parallel/learner.py:583\u001b[0m, in \u001b[0;36mBaseNode.gen_fit\u001b[0;34m(self, X, y, P)\u001b[0m\n\u001b[1;32m    579\u001b[0m         i \u001b[38;5;241m+\u001b[39m\u001b[38;5;241m=\u001b[39m \u001b[38;5;241m1\u001b[39m\n\u001b[1;32m    581\u001b[0m \u001b[38;5;28;01mif\u001b[39;00m \u001b[38;5;129;01mnot\u001b[39;00m \u001b[38;5;28mself\u001b[39m\u001b[38;5;241m.\u001b[39m__only_all__:\n\u001b[1;32m    582\u001b[0m     \u001b[38;5;66;03m# Fit sub-learners on cv folds\u001b[39;00m\n\u001b[0;32m--> 583\u001b[0m     \u001b[38;5;28;01mfor\u001b[39;00m i, (train_index, test_index) \u001b[38;5;129;01min\u001b[39;00m \u001b[38;5;28menumerate\u001b[39m(\n\u001b[1;32m    584\u001b[0m             \u001b[38;5;28mself\u001b[39m\u001b[38;5;241m.\u001b[39mindexer\u001b[38;5;241m.\u001b[39mgenerate()):\n\u001b[1;32m    585\u001b[0m         \u001b[38;5;66;03m# Note that we bump index[1] by 1 to have index[1] start at 1\u001b[39;00m\n\u001b[1;32m    586\u001b[0m         \u001b[38;5;28;01mif\u001b[39;00m \u001b[38;5;28mself\u001b[39m\u001b[38;5;241m.\u001b[39m_partitions \u001b[38;5;241m==\u001b[39m \u001b[38;5;241m1\u001b[39m:\n\u001b[1;32m    587\u001b[0m             index \u001b[38;5;241m=\u001b[39m (\u001b[38;5;241m0\u001b[39m, i \u001b[38;5;241m+\u001b[39m \u001b[38;5;241m1\u001b[39m)\n",
            "File \u001b[0;32m~/opt/anaconda3/lib/python3.9/site-packages/mlens/index/base.py:253\u001b[0m, in \u001b[0;36mBaseIndex.generate\u001b[0;34m(self, X, as_array)\u001b[0m\n\u001b[1;32m    250\u001b[0m     \u001b[38;5;66;03m# Need to call fit to continue\u001b[39;00m\n\u001b[1;32m    251\u001b[0m     \u001b[38;5;28mself\u001b[39m\u001b[38;5;241m.\u001b[39mfit(X)\n\u001b[0;32m--> 253\u001b[0m \u001b[38;5;28;01mfor\u001b[39;00m tri, tei \u001b[38;5;129;01min\u001b[39;00m \u001b[38;5;28mself\u001b[39m\u001b[38;5;241m.\u001b[39m_gen_indices():\n\u001b[1;32m    255\u001b[0m     \u001b[38;5;28;01mif\u001b[39;00m as_array:\n\u001b[1;32m    256\u001b[0m         tri \u001b[38;5;241m=\u001b[39m \u001b[38;5;28mself\u001b[39m\u001b[38;5;241m.\u001b[39m_build_range(tri)\n",
            "File \u001b[0;32m~/opt/anaconda3/lib/python3.9/site-packages/mlens/index/base.py:184\u001b[0m, in \u001b[0;36mBaseIndex._gen_indices\u001b[0;34m(self)\u001b[0m\n\u001b[1;32m    181\u001b[0m     \u001b[38;5;28;01myield\u001b[39;00m ((\u001b[38;5;241m0\u001b[39m, n_samples),), (\u001b[38;5;241m0\u001b[39m, n_samples)\n\u001b[1;32m    182\u001b[0m \u001b[38;5;28;01melse\u001b[39;00m:\n\u001b[1;32m    183\u001b[0m     \u001b[38;5;66;03m# Get the length of the test sets\u001b[39;00m\n\u001b[0;32m--> 184\u001b[0m     tei_len \u001b[38;5;241m=\u001b[39m \u001b[43mpartition\u001b[49m\u001b[43m(\u001b[49m\u001b[43mn_samples\u001b[49m\u001b[43m,\u001b[49m\u001b[43m \u001b[49m\u001b[43mfolds\u001b[49m\u001b[43m)\u001b[49m\n\u001b[1;32m    186\u001b[0m     last \u001b[38;5;241m=\u001b[39m \u001b[38;5;241m0\u001b[39m\n\u001b[1;32m    187\u001b[0m     \u001b[38;5;28;01mfor\u001b[39;00m size \u001b[38;5;129;01min\u001b[39;00m tei_len:\n\u001b[1;32m    188\u001b[0m \n\u001b[1;32m    189\u001b[0m         \u001b[38;5;66;03m# Test set\u001b[39;00m\n",
            "File \u001b[0;32m~/opt/anaconda3/lib/python3.9/site-packages/mlens/index/base.py:83\u001b[0m, in \u001b[0;36mpartition\u001b[0;34m(n, p)\u001b[0m\n\u001b[1;32m     53\u001b[0m \u001b[38;5;28;01mdef\u001b[39;00m \u001b[38;5;21mpartition\u001b[39m(n, p):\n\u001b[1;32m     54\u001b[0m \u001b[38;5;250m    \u001b[39m\u001b[38;5;124;03m\"\"\"Get partition sizes for a given number of samples and partitions.\u001b[39;00m\n\u001b[1;32m     55\u001b[0m \n\u001b[1;32m     56\u001b[0m \u001b[38;5;124;03m    This method will give an array containing the sizes of ``p`` partitions\u001b[39;00m\n\u001b[0;32m   (...)\u001b[0m\n\u001b[1;32m     81\u001b[0m \u001b[38;5;124;03m    array([3, 3, 2])\u001b[39;00m\n\u001b[1;32m     82\u001b[0m \u001b[38;5;124;03m    \"\"\"\u001b[39;00m\n\u001b[0;32m---> 83\u001b[0m     sizes \u001b[38;5;241m=\u001b[39m (n \u001b[38;5;241m/\u001b[39m\u001b[38;5;241m/\u001b[39m p) \u001b[38;5;241m*\u001b[39m np\u001b[38;5;241m.\u001b[39mones(p, dtype\u001b[38;5;241m=\u001b[39m\u001b[43mnp\u001b[49m\u001b[38;5;241;43m.\u001b[39;49m\u001b[43mint\u001b[49m)\n\u001b[1;32m     84\u001b[0m     sizes[:n \u001b[38;5;241m%\u001b[39m p] \u001b[38;5;241m+\u001b[39m\u001b[38;5;241m=\u001b[39m \u001b[38;5;241m1\u001b[39m\n\u001b[1;32m     85\u001b[0m     \u001b[38;5;28;01mreturn\u001b[39;00m sizes\n",
            "File \u001b[0;32m~/opt/anaconda3/lib/python3.9/site-packages/numpy/__init__.py:324\u001b[0m, in \u001b[0;36m__getattr__\u001b[0;34m(attr)\u001b[0m\n\u001b[1;32m    319\u001b[0m     warnings\u001b[38;5;241m.\u001b[39mwarn(\n\u001b[1;32m    320\u001b[0m         \u001b[38;5;124mf\u001b[39m\u001b[38;5;124m\"\u001b[39m\u001b[38;5;124mIn the future `np.\u001b[39m\u001b[38;5;132;01m{\u001b[39;00mattr\u001b[38;5;132;01m}\u001b[39;00m\u001b[38;5;124m` will be defined as the \u001b[39m\u001b[38;5;124m\"\u001b[39m\n\u001b[1;32m    321\u001b[0m         \u001b[38;5;124m\"\u001b[39m\u001b[38;5;124mcorresponding NumPy scalar.\u001b[39m\u001b[38;5;124m\"\u001b[39m, \u001b[38;5;167;01mFutureWarning\u001b[39;00m, stacklevel\u001b[38;5;241m=\u001b[39m\u001b[38;5;241m2\u001b[39m)\n\u001b[1;32m    323\u001b[0m \u001b[38;5;28;01mif\u001b[39;00m attr \u001b[38;5;129;01min\u001b[39;00m __former_attrs__:\n\u001b[0;32m--> 324\u001b[0m     \u001b[38;5;28;01mraise\u001b[39;00m \u001b[38;5;167;01mAttributeError\u001b[39;00m(__former_attrs__[attr])\n\u001b[1;32m    326\u001b[0m \u001b[38;5;28;01mif\u001b[39;00m attr \u001b[38;5;241m==\u001b[39m \u001b[38;5;124m'\u001b[39m\u001b[38;5;124mtesting\u001b[39m\u001b[38;5;124m'\u001b[39m:\n\u001b[1;32m    327\u001b[0m     \u001b[38;5;28;01mimport\u001b[39;00m \u001b[38;5;21;01mnumpy\u001b[39;00m\u001b[38;5;21;01m.\u001b[39;00m\u001b[38;5;21;01mtesting\u001b[39;00m \u001b[38;5;28;01mas\u001b[39;00m \u001b[38;5;21;01mtesting\u001b[39;00m\n",
            "\u001b[0;31mAttributeError\u001b[0m: module 'numpy' has no attribute 'int'.\n`np.int` was a deprecated alias for the builtin `int`. To avoid this error in existing code, use `int` by itself. Doing this will not modify any behavior and is safe. When replacing `np.int`, you may wish to use e.g. `np.int64` or `np.int32` to specify the precision. If you wish to review your current use, check the release note link for additional information.\nThe aliases was originally deprecated in NumPy 1.20; for more details and guidance see the original release note at:\n    https://numpy.org/devdocs/release/1.20.0-notes.html#deprecations"
          ]
        }
      ],
      "source": [
        "# Define the base learners\n",
        "base_learners = [\n",
        "    ('ml_l', glm),\n",
        "    ('ml_b', gbm),\n",
        "    ('ml_rt', rf),\n",
        "    ('ml_rf', regtree)]\n",
        "\n",
        "# Define the super learner\n",
        "graph_ensemble_regr = SuperLearner(folds=5, scorer=make_scorer('mean_squared_error', greater_is_better=False))\n",
        "graph_ensemble_regr.add(base_learners, proba=False)\n",
        "graph_ensemble_regr.add_meta(LinearRegression())\n",
        "\n",
        "# Fit the ensemble\n",
        "graph_ensemble_regr.fit(y, t)  # Replace X_train and y_train with your data\n",
        "\n",
        "# Convert the ensemble into a single learner\n",
        "ml_nsmbl = clone(graph_ensemble_regr)\n"
      ]
    },
    {
      "cell_type": "markdown",
      "metadata": {},
      "source": [
        "## Parallel Processing"
      ]
    },
    {
      "cell_type": "code",
      "execution_count": 94,
      "metadata": {},
      "outputs": [],
      "source": [
        "models = [rf, glm, gbm, regtree]\n",
        "res_temp = []\n",
        "import numpy as np"
      ]
    },
    {
      "cell_type": "code",
      "execution_count": 95,
      "metadata": {},
      "outputs": [],
      "source": [
        "def fit_model(model):\n",
        "    np.random.seed(1234)\n",
        "    est = OrthoIV(model_y_xw = model,\n",
        "           model_t_xw = model,\n",
        "           model_t_xwz= model,\n",
        "           projection= True,\n",
        "           cv = 2,\n",
        "           mc_iters = 100\n",
        "         )\n",
        "    est.fit(Y=y, T=t, Z=z, X=None, W=w, sample_weight= weight)\n",
        "    summary = est.summary(alpha=0.05)\n",
        "    res_temp.append(summary)\n",
        "    return res_temp\n"
      ]
    },
    {
      "cell_type": "code",
      "execution_count": 96,
      "metadata": {},
      "outputs": [
        {
          "name": "stderr",
          "output_type": "stream",
          "text": [
            "/Users/elkanfoudik/opt/anaconda3/lib/python3.9/site-packages/scipy/__init__.py:146: UserWarning: A NumPy version >=1.16.5 and <1.23.0 is required for this version of SciPy (detected version 1.26.4\n",
            "  warnings.warn(f\"A NumPy version >={np_minversion} and <{np_maxversion}\"\n",
            "/Users/elkanfoudik/opt/anaconda3/lib/python3.9/site-packages/scipy/__init__.py:146: UserWarning: A NumPy version >=1.16.5 and <1.23.0 is required for this version of SciPy (detected version 1.26.4\n",
            "  warnings.warn(f\"A NumPy version >={np_minversion} and <{np_maxversion}\"\n",
            "/Users/elkanfoudik/opt/anaconda3/lib/python3.9/site-packages/scipy/__init__.py:146: UserWarning: A NumPy version >=1.16.5 and <1.23.0 is required for this version of SciPy (detected version 1.26.4\n",
            "  warnings.warn(f\"A NumPy version >={np_minversion} and <{np_maxversion}\"\n",
            "/Users/elkanfoudik/opt/anaconda3/lib/python3.9/site-packages/scipy/__init__.py:146: UserWarning: A NumPy version >=1.16.5 and <1.23.0 is required for this version of SciPy (detected version 1.26.4\n",
            "  warnings.warn(f\"A NumPy version >={np_minversion} and <{np_maxversion}\"\n"
          ]
        },
        {
          "name": "stdout",
          "output_type": "stream",
          "text": [
            "Coefficient Results:  X is None, please call intercept_inference to learn the constant!\n",
            "Coefficient Results:  X is None, please call intercept_inference to learn the constant!\n",
            "Coefficient Results:  X is None, please call intercept_inference to learn the constant!\n",
            "Coefficient Results:  X is None, please call intercept_inference to learn the constant!\n"
          ]
        }
      ],
      "source": [
        "results = Parallel(n_jobs=-1)(delayed(fit_model)(model) for model in models)"
      ]
    },
    {
      "cell_type": "code",
      "execution_count": 98,
      "metadata": {},
      "outputs": [
        {
          "data": {
            "text/plain": [
              "[[<class 'econml.utilities.Summary'>\n",
              "  \"\"\"\n",
              "                         CATE Intercept Results                       \n",
              "  ====================================================================\n",
              "                 point_estimate stderr zstat  pvalue ci_lower ci_upper\n",
              "  --------------------------------------------------------------------\n",
              "  cate_intercept         -0.337  0.052 -6.495    0.0   -0.439   -0.235\n",
              "  --------------------------------------------------------------------\n",
              "  \n",
              "  <sub>A linear parametric conditional average treatment effect (CATE) model was fitted:\n",
              "  $Y = \\Theta(X)\\cdot T + g(X, W) + \\epsilon$\n",
              "  where for every outcome $i$ and treatment $j$ the CATE $\\Theta_{ij}(X)$ has the form:\n",
              "  $\\Theta_{ij}(X) = X' coef_{ij} + cate\\_intercept_{ij}$\n",
              "  Coefficient Results table portrays the $coef_{ij}$ parameter vector for each outcome $i$ and treatment $j$. Intercept Results table portrays the $cate\\_intercept_{ij}$ parameter.</sub>\n",
              "  \"\"\"],\n",
              " [<class 'econml.utilities.Summary'>\n",
              "  \"\"\"\n",
              "                         CATE Intercept Results                       \n",
              "  ====================================================================\n",
              "                 point_estimate stderr zstat  pvalue ci_lower ci_upper\n",
              "  --------------------------------------------------------------------\n",
              "  cate_intercept         -0.515  0.056 -9.141    0.0   -0.626   -0.405\n",
              "  --------------------------------------------------------------------\n",
              "  \n",
              "  <sub>A linear parametric conditional average treatment effect (CATE) model was fitted:\n",
              "  $Y = \\Theta(X)\\cdot T + g(X, W) + \\epsilon$\n",
              "  where for every outcome $i$ and treatment $j$ the CATE $\\Theta_{ij}(X)$ has the form:\n",
              "  $\\Theta_{ij}(X) = X' coef_{ij} + cate\\_intercept_{ij}$\n",
              "  Coefficient Results table portrays the $coef_{ij}$ parameter vector for each outcome $i$ and treatment $j$. Intercept Results table portrays the $cate\\_intercept_{ij}$ parameter.</sub>\n",
              "  \"\"\"],\n",
              " [<class 'econml.utilities.Summary'>\n",
              "  \"\"\"\n",
              "                         CATE Intercept Results                       \n",
              "  ====================================================================\n",
              "                 point_estimate stderr zstat  pvalue ci_lower ci_upper\n",
              "  --------------------------------------------------------------------\n",
              "  cate_intercept         -0.468  0.065 -7.232    0.0   -0.595   -0.341\n",
              "  --------------------------------------------------------------------\n",
              "  \n",
              "  <sub>A linear parametric conditional average treatment effect (CATE) model was fitted:\n",
              "  $Y = \\Theta(X)\\cdot T + g(X, W) + \\epsilon$\n",
              "  where for every outcome $i$ and treatment $j$ the CATE $\\Theta_{ij}(X)$ has the form:\n",
              "  $\\Theta_{ij}(X) = X' coef_{ij} + cate\\_intercept_{ij}$\n",
              "  Coefficient Results table portrays the $coef_{ij}$ parameter vector for each outcome $i$ and treatment $j$. Intercept Results table portrays the $cate\\_intercept_{ij}$ parameter.</sub>\n",
              "  \"\"\"],\n",
              " [<class 'econml.utilities.Summary'>\n",
              "  \"\"\"\n",
              "                         CATE Intercept Results                       \n",
              "  ====================================================================\n",
              "                 point_estimate stderr zstat  pvalue ci_lower ci_upper\n",
              "  --------------------------------------------------------------------\n",
              "  cate_intercept         -0.156  0.053 -2.962  0.003    -0.26   -0.053\n",
              "  --------------------------------------------------------------------\n",
              "  \n",
              "  <sub>A linear parametric conditional average treatment effect (CATE) model was fitted:\n",
              "  $Y = \\Theta(X)\\cdot T + g(X, W) + \\epsilon$\n",
              "  where for every outcome $i$ and treatment $j$ the CATE $\\Theta_{ij}(X)$ has the form:\n",
              "  $\\Theta_{ij}(X) = X' coef_{ij} + cate\\_intercept_{ij}$\n",
              "  Coefficient Results table portrays the $coef_{ij}$ parameter vector for each outcome $i$ and treatment $j$. Intercept Results table portrays the $cate\\_intercept_{ij}$ parameter.</sub>\n",
              "  \"\"\"]]"
            ]
          },
          "execution_count": 98,
          "metadata": {},
          "output_type": "execute_result"
        }
      ],
      "source": [
        "results\n"
      ]
    }
  ],
  "metadata": {
    "colab": {
      "provenance": []
    },
    "kernelspec": {
      "display_name": "Python 3",
      "name": "python3"
    },
    "language_info": {
      "codemirror_mode": {
        "name": "ipython",
        "version": 3
      },
      "file_extension": ".py",
      "mimetype": "text/x-python",
      "name": "python",
      "nbconvert_exporter": "python",
      "pygments_lexer": "ipython3",
      "version": "3.9.7"
    }
  },
  "nbformat": 4,
  "nbformat_minor": 0
}
